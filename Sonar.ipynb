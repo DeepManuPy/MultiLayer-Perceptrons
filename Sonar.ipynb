{
  "nbformat": 4,
  "nbformat_minor": 0,
  "metadata": {
    "colab": {
      "name": "Sonar.ipynb",
      "version": "0.3.2",
      "provenance": [],
      "include_colab_link": true
    },
    "kernelspec": {
      "name": "python3",
      "display_name": "Python 3"
    }
  },
  "cells": [
    {
      "cell_type": "markdown",
      "metadata": {
        "id": "view-in-github",
        "colab_type": "text"
      },
      "source": [
        "<a href=\"https://colab.research.google.com/github/DeepManuPy/MultiLayer-Perceptrons/blob/master/Sonar.ipynb\" target=\"_parent\"><img src=\"https://colab.research.google.com/assets/colab-badge.svg\" alt=\"Open In Colab\"/></a>"
      ]
    },
    {
      "cell_type": "code",
      "metadata": {
        "id": "sEMZGRnz-jMZ",
        "colab_type": "code",
        "colab": {}
      },
      "source": [
        "import numpy as np\n",
        "import pandas as pd\n",
        "\n",
        "seed=7\n",
        "np.random.seed(seed)"
      ],
      "execution_count": 0,
      "outputs": []
    },
    {
      "cell_type": "code",
      "metadata": {
        "id": "go2pDZJRAUUg",
        "colab_type": "code",
        "colab": {}
      },
      "source": [
        "df = pd.read_csv(\"sonar.csv\")\n",
        "\n",
        "dataset = df.values\n",
        "\n",
        "X = dataset[:,:60].astype(float)\n",
        "y = dataset[:,60]\n"
      ],
      "execution_count": 0,
      "outputs": []
    },
    {
      "cell_type": "code",
      "metadata": {
        "id": "xKpawFZhA7bc",
        "colab_type": "code",
        "colab": {}
      },
      "source": [
        "from sklearn.preprocessing import LabelEncoder\n",
        "\n",
        "encoder = LabelEncoder()\n",
        "enc_y = encoder.fit_transform(y)\n"
      ],
      "execution_count": 0,
      "outputs": []
    },
    {
      "cell_type": "code",
      "metadata": {
        "id": "LvmgIiNOBp-D",
        "colab_type": "code",
        "colab": {}
      },
      "source": [
        "import tensorflow as tf\n",
        "from tensorflow.keras.layers import Dense,Dropout,BatchNormalization,Activation\n",
        "\n",
        "\n",
        "def baseline_model():\n",
        "  model = tf.keras.models.Sequential()\n",
        "  model.add(Dense(60,input_dim=60,kernel_initializer='normal',activation='relu'))\n",
        "  model.add(Dense(1,kernel_initializer='normal',activation='sigmoid'))\n",
        "  \n",
        "  model.compile(optimizer='adam',loss='binary_crossentropy',metrics=['accuracy'])\n",
        "  return model\n",
        "\n",
        "def small_net():\n",
        "  model = tf.keras.models.Sequential()\n",
        "  model.add(Dense(30,input_dim=60,kernel_initializer='normal',activation='relu'))\n",
        "  model.add(Dense(1,kernel_initializer='normal',activation='sigmoid'))\n",
        "  model.compile(optimizer='adam',loss='binary_crossentropy',metrics=['accuracy'])\n",
        "  return model\n",
        "\n",
        "def big_net():\n",
        "  model = tf.keras.models.Sequential()\n",
        "  model.add(Dense(60,input_dim=60,kernel_initializer='normal',activation='relu'))\n",
        "  model.add(Dense(30,kernel_initializer='normal',activation='relu'))\n",
        "  model.add(Dense(1,kernel_initializer='normal',activation='sigmoid'))\n",
        "  \n",
        "  model.compile(optimizer='adam',loss='binary_crossentropy',metrics=['accuracy'])\n",
        "  return model"
      ],
      "execution_count": 0,
      "outputs": []
    },
    {
      "cell_type": "code",
      "metadata": {
        "id": "TMZFcgXIDUBU",
        "colab_type": "code",
        "colab": {}
      },
      "source": [
        "from keras.wrappers.scikit_learn import KerasClassifier\n",
        "from sklearn.model_selection import cross_val_score,StratifiedKFold\n",
        "\n",
        "model = KerasClassifier(baseline_model,epochs=200,batch_size=8,verbose=0)\n",
        "kfold = StratifiedKFold(n_splits=10,shuffle=True,random_state=seed)\n",
        "\n",
        "results = cross_val_score(model,X,enc_y,cv=kfold)"
      ],
      "execution_count": 0,
      "outputs": []
    },
    {
      "cell_type": "code",
      "metadata": {
        "id": "PG7aNHSSZI7t",
        "colab_type": "code",
        "outputId": "8436b62d-0268-433b-ddcf-9adf79b9928b",
        "colab": {
          "base_uri": "https://localhost:8080/",
          "height": 34
        }
      },
      "source": [
        "print(\"Baseline: %.2f%% (%.2f%%)\"%(results.mean()*100,results.std()*100))"
      ],
      "execution_count": 0,
      "outputs": [
        {
          "output_type": "stream",
          "text": [
            "Baseline: 81.11% (6.29%)\n"
          ],
          "name": "stdout"
        }
      ]
    },
    {
      "cell_type": "markdown",
      "metadata": {
        "id": "klEI7sKQ5vJw",
        "colab_type": "text"
      },
      "source": [
        "#Standardizing input"
      ]
    },
    {
      "cell_type": "code",
      "metadata": {
        "id": "NEpFI2hNa6MM",
        "colab_type": "code",
        "colab": {}
      },
      "source": [
        "from sklearn.pipeline import Pipeline\n",
        "from sklearn.preprocessing import StandardScaler\n",
        "\n",
        "sequence = []\n",
        "\n",
        "sequence.append(('Standardize',StandardScaler()))\n",
        "sequence.append(('mlp',KerasClassifier(baseline_model,epochs=200,batch_size=8,verbose=0)))\n",
        "\n",
        "pipeline = Pipeline(sequence)\n",
        "kfold = StratifiedKFold(n_splits=10,shuffle=True,random_state=seed)\n",
        "\n",
        "results = cross_val_score(pipeline,X,enc_y,cv=kfold)"
      ],
      "execution_count": 0,
      "outputs": []
    },
    {
      "cell_type": "code",
      "metadata": {
        "id": "GVGdPoDD1lmx",
        "colab_type": "code",
        "outputId": "16ee30f2-a03c-4845-e588-b1a8d1da19c2",
        "colab": {
          "base_uri": "https://localhost:8080/",
          "height": 34
        }
      },
      "source": [
        "print(\"Baseline with Standardize: %.2f%% (%.2f%%)\"%(results.mean()*100,results.std()*100))"
      ],
      "execution_count": 0,
      "outputs": [
        {
          "output_type": "stream",
          "text": [
            "Baseline with Standardize: 82.54% (4.65%)\n"
          ],
          "name": "stdout"
        }
      ]
    },
    {
      "cell_type": "markdown",
      "metadata": {
        "id": "jH9_vQ8a4iix",
        "colab_type": "text"
      },
      "source": [
        "# Evaluating a Smaller Network\n",
        "\n",
        "  Reduced the number of neurons in the input layer by half. \n",
        "  So that, it forces the NN to extract important features from the given those of 60."
      ]
    },
    {
      "cell_type": "code",
      "metadata": {
        "id": "Zon9X06a04Uz",
        "colab_type": "code",
        "colab": {}
      },
      "source": [
        "sequence = []\n",
        "\n",
        "sequence.append(('Standardize',StandardScaler()))\n",
        "sequence.append(('mlp',KerasClassifier(small_net,epochs=200,batch_size=8,verbose=0)))\n",
        "\n",
        "pipeline = Pipeline(sequence)\n",
        "kfold = StratifiedKFold(n_splits=10,shuffle=True,random_state=seed)\n",
        "\n",
        "results = cross_val_score(pipeline,X,enc_y,cv=kfold)"
      ],
      "execution_count": 0,
      "outputs": []
    },
    {
      "cell_type": "code",
      "metadata": {
        "id": "0SYiru2R5Cfp",
        "colab_type": "code",
        "outputId": "652225f6-16fa-4e1c-e768-0603121584b7",
        "colab": {
          "base_uri": "https://localhost:8080/",
          "height": 34
        }
      },
      "source": [
        "print(\"Small network with Standardize: %.2f%% (%.2f%%)\"%(results.mean()*100,results.std()*100))"
      ],
      "execution_count": 0,
      "outputs": [
        {
          "output_type": "stream",
          "text": [
            "Small network with Standardize: 83.52% (6.29%)\n"
          ],
          "name": "stdout"
        }
      ]
    },
    {
      "cell_type": "markdown",
      "metadata": {
        "id": "wmbfNXo758kk",
        "colab_type": "text"
      },
      "source": [
        "#Evaluating a Bigger Network\n"
      ]
    },
    {
      "cell_type": "code",
      "metadata": {
        "id": "EJhtCzyo5pHu",
        "colab_type": "code",
        "colab": {}
      },
      "source": [
        "sequence = []\n",
        "\n",
        "sequence.append(('Standardize',StandardScaler()))\n",
        "sequence.append(('mlp',KerasClassifier(big_net,epochs=200,batch_size=8,verbose=0)))\n",
        "\n",
        "pipeline = Pipeline(sequence)\n",
        "kfold = StratifiedKFold(n_splits=10,shuffle=True,random_state=seed)\n",
        "\n",
        "results = cross_val_score(pipeline,X,enc_y,cv=kfold)"
      ],
      "execution_count": 0,
      "outputs": []
    },
    {
      "cell_type": "code",
      "metadata": {
        "id": "bJCZSqB_7bf3",
        "colab_type": "code",
        "outputId": "ece4cb02-c672-429f-c1b0-db5b2aaabbcc",
        "colab": {
          "base_uri": "https://localhost:8080/",
          "height": 34
        }
      },
      "source": [
        "print(\"Big network with Standardize: %.2f%% (%.2f%%)\"%(results.mean()*100,results.std()*100))"
      ],
      "execution_count": 0,
      "outputs": [
        {
          "output_type": "stream",
          "text": [
            "Big network with Standardize: 84.04% (6.78%)\n"
          ],
          "name": "stdout"
        }
      ]
    }
  ]
}